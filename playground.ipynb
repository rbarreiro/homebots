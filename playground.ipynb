{
 "cells": [
  {
   "cell_type": "code",
   "execution_count": 2,
   "metadata": {},
   "outputs": [],
   "source": [
    "import cv2\n",
    "import cv2.aruco as aruco\n",
    "import matplotlib.pyplot as plt\n",
    "import numpy as np\n",
    "\n",
    "cap = cv2.VideoCapture(0)\n",
    "if not cap.isOpened():\n",
    "    raise Exception(\"Não foi possível abrir a câmara.\")"
   ]
  },
  {
   "cell_type": "code",
   "execution_count": 9,
   "metadata": {},
   "outputs": [],
   "source": [
    "def grab_camara_frame(cap):\n",
    "\n",
    "    # Ler um frame da câmara\n",
    "    ret, frame = cap.read()\n",
    "\n",
    "    # Verificar se o frame foi lido com sucesso\n",
    "    if not ret:\n",
    "        raise Exception(\"Não foi possível receber o frame (stream terminou?). A sair...\")\n",
    "    return frame\n",
    "\n",
    "def show_img(x):\n",
    "    fig, ax = plt.subplots(figsize=(8, 6))  # Ajuste o tamanho conforme necessário\n",
    "    im = ax.imshow(cv2.cvtColor(x, cv2.COLOR_BGR2RGB))  # Inicializar com um frame\n",
    "    plt.show()\n",
    "\n",
    "\n",
    "def create_aruco(marker_id):\n",
    "    aruco_dict = aruco.getPredefinedDictionary(aruco.DICT_6X6_250)\n",
    "    marker_size = 200\n",
    "    marker_image = np.zeros((marker_size, marker_size, 1), dtype=np.uint8)\n",
    "    return aruco.generateImageMarker(aruco_dict, marker_id, marker_size, marker_image, 1)\n",
    "\n",
    "def detect_aruco(frame):\n",
    "    # Convert to grayscale\n",
    "    gray = cv2.cvtColor(frame, cv2.COLOR_BGR2GRAY)\n",
    "    \n",
    "    # Define the ArUco dictionary\n",
    "    # Note: Use the same dictionary type that was used to create the marker\n",
    "    aruco_dict = cv2.aruco.getPredefinedDictionary(cv2.aruco.DICT_6X6_250)\n",
    "    \n",
    "    # Create parameters and detector\n",
    "    parameters = cv2.aruco.DetectorParameters()\n",
    "    detector = cv2.aruco.ArucoDetector(aruco_dict, parameters)\n",
    "    \n",
    "    # Detect markers\n",
    "    corners, ids, rejected = detector.detectMarkers(gray)\n",
    "        \n",
    "    return ids, corners"
   ]
  },
  {
   "cell_type": "code",
   "execution_count": 13,
   "metadata": {},
   "outputs": [
    {
     "data": {
      "text/plain": [
       "(array([[[370., 251.],\n",
       "         [381., 306.],\n",
       "         [324., 313.],\n",
       "         [316., 256.]]], dtype=float32),)"
      ]
     },
     "execution_count": 13,
     "metadata": {},
     "output_type": "execute_result"
    }
   ],
   "source": [
    "corners"
   ]
  },
  {
   "cell_type": "code",
   "execution_count": null,
   "metadata": {},
   "outputs": [],
   "source": [
    "frame = grab_camara_frame(cap)\n",
    "#show_img(frame)\n",
    "ids, corners = detect_aruco(frame)\n",
    "detections =cv2.aruco.drawDetectedMarkers(frame, corners, ids)\n",
    "show_img(detections)"
   ]
  },
  {
   "cell_type": "code",
   "execution_count": 41,
   "metadata": {},
   "outputs": [
    {
     "data": {
      "image/png": "[encoded data removed]",
      "text/plain": [
       "<Figure size 800x600 with 1 Axes>"
      ]
     },
     "metadata": {},
     "output_type": "display_data"
    },
    {
     "data": {
      "text/plain": [
       "True"
      ]
     },
     "execution_count": 41,
     "metadata": {},
     "output_type": "execute_result"
    }
   ],
   "source": [
    "#frame = grab_camara_frame(cap)\n",
    "#show_img(frame)\n",
    "i = 0\n",
    "aruco_code=create_aruco(i)\n",
    "show_img(aruco_test)\n",
    "cv2.imwrite(\"aruco\" + str(i) + \".jpg\", aruco_code)"
   ]
  },
  {
   "cell_type": "code",
   "execution_count": 12,
   "metadata": {},
   "outputs": [],
   "source": [
    "cap.release()"
   ]
  },
  {
   "cell_type": "code",
   "execution_count": null,
   "metadata": {},
   "outputs": [],
   "source": []
  }
 ],
 "metadata": {
  "kernelspec": {
   "display_name": "Python 3",
   "language": "python",
   "name": "python3"
  },
  "language_info": {
   "codemirror_mode": {
    "name": "ipython",
    "version": 3
   },
   "file_extension": ".py",
   "mimetype": "text/x-python",
   "name": "python",
   "nbconvert_exporter": "python",
   "pygments_lexer": "ipython3",
   "version": "3.13.2"
  }
 },
 "nbformat": 4,
 "nbformat_minor": 2
}
